{
 "cells": [
  {
   "cell_type": "code",
   "execution_count": 1,
   "id": "2ed98870-e971-47ce-98be-ebea04e80658",
   "metadata": {},
   "outputs": [],
   "source": [
    "# Import statements\n",
    "import numpy as np\n",
    "import pandas as pd\n",
    "\n",
    "from sklearn.model_selection import KFold, cross_val_score, train_test_split\n",
    "\n",
    "from sklearn.preprocessing import StandardScaler, MinMaxScaler\n",
    "from sklearn.utils import resample\n",
    "\n",
    "# Models\n",
    "from sklearn.linear_model import SGDClassifier # SGD model\n",
    "from sklearn.ensemble import RandomForestClassifier # Random Forest model\n",
    "from sklearn.neural_network import MLPClassifier # Neural network"
   ]
  },
  {
   "cell_type": "code",
   "execution_count": 1,
   "id": "b4b05af9-c89b-4822-9154-39631d1bef1d",
   "metadata": {},
   "outputs": [],
   "source": [
    "# If the dataset is too sparse, try performance of these instead\n",
    "from sklearn.svm import LinearSVC, SVC\n",
    "from sklearn.neighbors import KNeighborsClassifier"
   ]
  },
  {
   "cell_type": "code",
   "execution_count": 2,
   "id": "2cfd2728-aa65-4559-932d-494186df0f6d",
   "metadata": {
    "scrolled": true
   },
   "outputs": [],
   "source": [
    "# Reading into data frame from file\n",
    "data_frame = pd.read_csv('./creditcard.csv')"
   ]
  },
  {
   "cell_type": "code",
   "execution_count": null,
   "id": "fc6eb192-1e5b-4341-877d-a075c2889ddd",
   "metadata": {
    "scrolled": true
   },
   "outputs": [
    {
     "data": {
      "application/vnd.jupyter.widget-view+json": {
       "model_id": "8dfb09b215304268980fdf0fabf03e1e",
       "version_major": 2,
       "version_minor": 0
      },
      "text/plain": [
       "Summarize dataset:   0%|          | 0/5 [00:00<?, ?it/s]"
      ]
     },
     "metadata": {},
     "output_type": "display_data"
    }
   ],
   "source": [
    "# Profiling dataset\n",
    "from ydata_profiling import ProfileReport\n",
    "\n",
    "profile = ProfileReport(data_frame, title=\"Profiling Report\")\n",
    "profile.to_file(\"./profiling/data_report.html\")"
   ]
  },
  {
   "cell_type": "code",
   "execution_count": 3,
   "id": "c5bc21e8-f95c-4a20-94fe-997a7c6b81f0",
   "metadata": {},
   "outputs": [],
   "source": [
    "# Dataset Validation\n",
    "# Validation the dataset isn't malformed and list features\n",
    "# data_frame.head()\n",
    "# data_frame.columns\n",
    "\n",
    "# Exploration\n",
    "# data_frame.shape"
   ]
  },
  {
   "cell_type": "code",
   "execution_count": 7,
   "id": "079f359e-d2fb-4158-98ec-02093ffe16c6",
   "metadata": {},
   "outputs": [],
   "source": [
    "# Data Preprocessing\n",
    "# Check if data has null values (has none)\n",
    "#print(data_frame.isnull().sum())\n",
    "# Check if data has zero values (has some in Amount)\n",
    "#print((data_frame[\"Class\"] == 1).sum())\n",
    "#print((data_frame[\"Class\"] == 0).sum())"
   ]
  },
  {
   "cell_type": "code",
   "execution_count": 12,
   "id": "3870b8c7-d7aa-4ca9-8cbc-e8c2d6fb4efb",
   "metadata": {},
   "outputs": [],
   "source": [
    "# Data to fit and targets\n",
    "feature_set = [\"Time\", \"V1\", \"V2\", \"V3\", \"V4\", \"V5\", \"V6\", \"V7\", \"V8\", \"V9\", \"V10\", \"V11\", \"V12\", \"V13\", \"V14\", \"V15\", \"V16\", \"V17\", \"V18\", \"V19\", \"V20\", \"V21\", \"V22\", \"V23\", \"V24\", \"V25\", \"V26\", \"V27\", \"V28\", \"Amount\"]\\\n",
    "# sub_set = [\"Time\", \"V1\", \"V2\", \"V3\", \"V4\", \"Amount\"]\n",
    "target_set = [\"Class\"]\n",
    "\n",
    "X = data_frame[feature_set]\n",
    "y = data_frame[target_set]\n",
    "\n",
    "# print(X)\n",
    "# print(y)"
   ]
  },
  {
   "cell_type": "code",
   "execution_count": 12,
   "id": "47390fc1-246c-451d-9457-f908c2c9683e",
   "metadata": {},
   "outputs": [],
   "source": [
    "# Splits data into 80-20 train-test\n",
    "# Prevents data leakage (where training and test sets influence each other in scaling)\n",
    "X_train, X_test, y_train, y_test = train_test_split(X, y, test_size=0.2, random_state=1)"
   ]
  },
  {
   "cell_type": "code",
   "execution_count": 7,
   "id": "c4afbe4a-778b-45ec-abb3-a9470427cdee",
   "metadata": {},
   "outputs": [],
   "source": [
    "# Scaling with each method, preserving unscaled values for comparison\n",
    "standard_scaler = StandardScaler()\n",
    "minmax_scaler = MinMaxScaler()\n",
    "\n",
    "# Standard scaling\n",
    "X_train_standard_scaled = standard_scaler.fit_transform(X_train)\n",
    "X_test_standard_scaled = standard_scaler.transform(X_test)\n",
    "# Minmax Scaling\n",
    "X_train_minmax_scaled = minmax_scaler.fit_transform(X_train)\n",
    "X_test_minmax_scaled = minmax_scaler.transform(X_test)"
   ]
  },
  {
   "cell_type": "code",
   "execution_count": 7,
   "id": "66271198-9650-4546-b085-b46ba287b423",
   "metadata": {},
   "outputs": [],
   "source": [
    "# Balancing data set with resampling\n",
    "\n"
   ]
  },
  {
   "cell_type": "code",
   "execution_count": 6,
   "id": "8884253f-4f38-481e-b5e4-627d422d536a",
   "metadata": {},
   "outputs": [],
   "source": [
    "# Initialize model(s)\n",
    "SGD_model = SGDClassifier(random_state=1) # Apparently prefers standard scaling\n",
    "RF_model = RandomForestClassifier(random_state=1) # Theoretically needs no scaling\n",
    "MLP_model = MLPClassifier(random_state=1)"
   ]
  },
  {
   "cell_type": "code",
   "execution_count": 13,
   "id": "63ad6b64-005b-4006-baf0-dfe7876b3c55",
   "metadata": {},
   "outputs": [
    {
     "name": "stderr",
     "output_type": "stream",
     "text": [
      "/home/quetzl/.pyenv/versions/ml-project-2025/lib/python3.12/site-packages/sklearn/utils/validation.py:1406: DataConversionWarning: A column-vector y was passed when a 1d array was expected. Please change the shape of y to (n_samples, ), for example using ravel().\n",
      "  y = column_or_1d(y, warn=True)\n",
      "/home/quetzl/.pyenv/versions/ml-project-2025/lib/python3.12/site-packages/sklearn/utils/validation.py:1406: DataConversionWarning: A column-vector y was passed when a 1d array was expected. Please change the shape of y to (n_samples, ), for example using ravel().\n",
      "  y = column_or_1d(y, warn=True)\n",
      "/home/quetzl/.pyenv/versions/ml-project-2025/lib/python3.12/site-packages/sklearn/utils/validation.py:1406: DataConversionWarning: A column-vector y was passed when a 1d array was expected. Please change the shape of y to (n_samples, ), for example using ravel().\n",
      "  y = column_or_1d(y, warn=True)\n",
      "/home/quetzl/.pyenv/versions/ml-project-2025/lib/python3.12/site-packages/sklearn/utils/validation.py:1406: DataConversionWarning: A column-vector y was passed when a 1d array was expected. Please change the shape of y to (n_samples, ), for example using ravel().\n",
      "  y = column_or_1d(y, warn=True)\n",
      "/home/quetzl/.pyenv/versions/ml-project-2025/lib/python3.12/site-packages/sklearn/utils/validation.py:1406: DataConversionWarning: A column-vector y was passed when a 1d array was expected. Please change the shape of y to (n_samples, ), for example using ravel().\n",
      "  y = column_or_1d(y, warn=True)\n"
     ]
    },
    {
     "name": "stdout",
     "output_type": "stream",
     "text": [
      "Cross validation scores: [0.99828831 0.9983322  0.99771775 0.99837609 0.99800303]\n",
      "Mean Validation Score: 0.9981434747306283\n"
     ]
    }
   ],
   "source": [
    "# Does cross validation with 5 folds using our training data post split\n",
    "kf = KFold(n_splits=5)\n",
    "cv_scores = cross_val_score(SGD_model, X_train, y_train, cv=kf, scoring=\"accuracy\")\n",
    "print(\"Cross validation scores:\", cv_scores)\n",
    "print(f\"Mean Validation Score: {np.mean(cv_scores)}\")"
   ]
  }
 ],
 "metadata": {
  "kernelspec": {
   "display_name": "Python 3 (ipykernel)",
   "language": "python",
   "name": "python3"
  },
  "language_info": {
   "codemirror_mode": {
    "name": "ipython",
    "version": 3
   },
   "file_extension": ".py",
   "mimetype": "text/x-python",
   "name": "python",
   "nbconvert_exporter": "python",
   "pygments_lexer": "ipython3",
   "version": "3.12.3"
  }
 },
 "nbformat": 4,
 "nbformat_minor": 5
}
