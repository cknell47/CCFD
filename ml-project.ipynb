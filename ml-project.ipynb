{
 "cells": [
  {
   "cell_type": "code",
   "execution_count": 10,
   "id": "2ed98870-e971-47ce-98be-ebea04e80658",
   "metadata": {},
   "outputs": [],
   "source": [
    "# Import statements\n",
    "\n",
    "import numpy as np\n",
    "import pandas as pd\n",
    "\n",
    "from sklearn.model_selection import KFold, cross_val_score, train_test_split # Imported performance/cross-validation\n",
    "from sklearn.linear_model import SGDClassifier # Imported model"
   ]
  },
  {
   "cell_type": "code",
   "execution_count": 2,
   "id": "2cfd2728-aa65-4559-932d-494186df0f6d",
   "metadata": {
    "scrolled": true
   },
   "outputs": [],
   "source": [
    "# Reading into data frame from file\n",
    "\n",
    "data_frame = pd.read_csv('./creditcard.csv')"
   ]
  },
  {
   "cell_type": "code",
   "execution_count": 3,
   "id": "c5bc21e8-f95c-4a20-94fe-997a7c6b81f0",
   "metadata": {},
   "outputs": [],
   "source": [
    "# Dataset Validation\n",
    "\n",
    "# Validation the dataset isn't malformed and list features\n",
    "# data_frame.head()\n",
    "# data_frame.columns\n",
    "\n",
    "# Exploration\n",
    "# data_frame.shape"
   ]
  },
  {
   "cell_type": "code",
   "execution_count": 4,
   "id": "c4afbe4a-778b-45ec-abb3-a9470427cdee",
   "metadata": {},
   "outputs": [],
   "source": [
    "# Data Preprocessing\n",
    "\n",
    "# Check if data has null values\n",
    "# print(data_frame.isnull().sum())\n",
    "# Check if data has zero values\n",
    "# print((data_frame == 0).sum())"
   ]
  },
  {
   "cell_type": "code",
   "execution_count": 12,
   "id": "3870b8c7-d7aa-4ca9-8cbc-e8c2d6fb4efb",
   "metadata": {},
   "outputs": [],
   "source": [
    "# Data to fit and targets\n",
    "\n",
    "feature_set = [\"Time\", \"V1\", \"V2\", \"V3\", \"V4\", \"V5\", \"V6\", \"V7\", \"V8\", \"V9\", \"V10\", \"V11\", \"V12\", \"V13\", \"V14\", \"V15\", \"V16\", \"V17\", \"V18\", \"V19\", \"V20\", \"V21\", \"V22\", \"V23\", \"V24\", \"V25\", \"V26\", \"V27\", \"V28\", \"Amount\"]\n",
    "target_set = [\"Class\"]\n",
    "X = data_frame[feature_set]\n",
    "y = data_frame[target_set]\n",
    "# print(X)\n",
    "# print(y)"
   ]
  },
  {
   "cell_type": "code",
   "execution_count": 6,
   "id": "8884253f-4f38-481e-b5e4-627d422d536a",
   "metadata": {},
   "outputs": [],
   "source": [
    "# Initialize model(s)\n",
    "\n",
    "model = SGDClassifier(random_state=1)"
   ]
  },
  {
   "cell_type": "code",
   "execution_count": null,
   "id": "296c69aa-15c2-41ad-b425-41f17d7adbed",
   "metadata": {},
   "outputs": [],
   "source": [
    "# Need a way to scale the data so we aren't so unbalanced"
   ]
  },
  {
   "cell_type": "code",
   "execution_count": 13,
   "id": "63ad6b64-005b-4006-baf0-dfe7876b3c55",
   "metadata": {},
   "outputs": [
    {
     "name": "stderr",
     "output_type": "stream",
     "text": [
      "/home/quetzl/.pyenv/versions/ml-project-2025/lib/python3.12/site-packages/sklearn/utils/validation.py:1406: DataConversionWarning: A column-vector y was passed when a 1d array was expected. Please change the shape of y to (n_samples, ), for example using ravel().\n",
      "  y = column_or_1d(y, warn=True)\n",
      "/home/quetzl/.pyenv/versions/ml-project-2025/lib/python3.12/site-packages/sklearn/utils/validation.py:1406: DataConversionWarning: A column-vector y was passed when a 1d array was expected. Please change the shape of y to (n_samples, ), for example using ravel().\n",
      "  y = column_or_1d(y, warn=True)\n",
      "/home/quetzl/.pyenv/versions/ml-project-2025/lib/python3.12/site-packages/sklearn/utils/validation.py:1406: DataConversionWarning: A column-vector y was passed when a 1d array was expected. Please change the shape of y to (n_samples, ), for example using ravel().\n",
      "  y = column_or_1d(y, warn=True)\n",
      "/home/quetzl/.pyenv/versions/ml-project-2025/lib/python3.12/site-packages/sklearn/utils/validation.py:1406: DataConversionWarning: A column-vector y was passed when a 1d array was expected. Please change the shape of y to (n_samples, ), for example using ravel().\n",
      "  y = column_or_1d(y, warn=True)\n",
      "/home/quetzl/.pyenv/versions/ml-project-2025/lib/python3.12/site-packages/sklearn/utils/validation.py:1406: DataConversionWarning: A column-vector y was passed when a 1d array was expected. Please change the shape of y to (n_samples, ), for example using ravel().\n",
      "  y = column_or_1d(y, warn=True)\n"
     ]
    },
    {
     "name": "stdout",
     "output_type": "stream",
     "text": [
      "Cross validation scores: [0.99828831 0.9983322  0.99771775 0.99837609 0.99800303]\n",
      "Mean Validation Score: 0.9981434747306283\n"
     ]
    }
   ],
   "source": [
    "# Split data and do cross validation\n",
    "\n",
    "# Splits data into 80-20 train-test\n",
    "X_train, X_test, y_train, y_test = train_test_split(X, y, test_size=0.2, random_state=1)\n",
    "\n",
    "# Does cross validation with 5 folds using our training data post split\n",
    "kf = KFold(n_splits=5)\n",
    "cv_scores = cross_val_score(model, X_train, y_train, cv=kf, scoring=\"accuracy\")\n",
    "print(\"Cross validation scores:\", cv_scores)\n",
    "print(f\"Mean Validation Score: {np.mean(cv_scores)}\")"
   ]
  },
  {
   "cell_type": "code",
   "execution_count": null,
   "id": "ee58ed25-a3e9-49c2-9d92-3e9531663777",
   "metadata": {},
   "outputs": [],
   "source": []
  }
 ],
 "metadata": {
  "kernelspec": {
   "display_name": "Python 3 (ipykernel)",
   "language": "python",
   "name": "python3"
  },
  "language_info": {
   "codemirror_mode": {
    "name": "ipython",
    "version": 3
   },
   "file_extension": ".py",
   "mimetype": "text/x-python",
   "name": "python",
   "nbconvert_exporter": "python",
   "pygments_lexer": "ipython3",
   "version": "3.12.3"
  }
 },
 "nbformat": 4,
 "nbformat_minor": 5
}
